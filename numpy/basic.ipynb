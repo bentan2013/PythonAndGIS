{
 "cells": [
  {
   "cell_type": "code",
   "execution_count": 1,
   "metadata": {
    "collapsed": true
   },
   "outputs": [],
   "source": [
    "import numpy as np # or from numpy import *"
   ]
  },
  {
   "cell_type": "code",
   "execution_count": 61,
   "metadata": {
    "collapsed": false
   },
   "outputs": [],
   "source": [
    "#从列表生成\n",
    "tmp = np.array([1,2,3])  "
   ]
  },
  {
   "cell_type": "code",
   "execution_count": 62,
   "metadata": {
    "collapsed": false
   },
   "outputs": [
    {
     "name": "stdout",
     "output_type": "stream",
     "text": [
      "数组为:\n",
      "[1 2 3]\n",
      "数据类型为：\n",
      "<class 'numpy.ndarray'>\n",
      "数组大小：\n",
      "3\n",
      "数据类型：\n",
      "int64\n",
      "数组维度：\n",
      "1\n",
      "数组形状：\n",
      "(3,)\n"
     ]
    }
   ],
   "source": [
    "print('数组为:')\n",
    "print(tmp)\n",
    "print(\"数据类型为：\")\n",
    "print(type(tmp))\n",
    "print('数组大小：')\n",
    "print(tmp.size)\n",
    "print('数据类型：')\n",
    "print(tmp.dtype)\n",
    "print('数组维度：')\n",
    "print(tmp.ndim)\n",
    "print('数组形状：')\n",
    "print(tmp.shape)"
   ]
  },
  {
   "cell_type": "code",
   "execution_count": 20,
   "metadata": {
    "collapsed": false
   },
   "outputs": [
    {
     "data": {
      "text/plain": [
       "(array([[ 0. ,  0.1,  0.2],\n",
       "        [ 1. ,  1.1,  1.2]]), (2, 3), 0.10000000000000001)"
      ]
     },
     "execution_count": 20,
     "metadata": {},
     "output_type": "execute_result"
    }
   ],
   "source": [
    "# numpy的矩阵是行优先的,shape的第一个值是行数，第二个值是列数，以此类推，所以所以[0][1]是一行的第二个，index = i * width + j\n",
    "# 注意结构为 [[,..,],[],..,[]]\n",
    "tmp2D = np.array([[0.0, 0.1, 0.2], \n",
    "                  [1.0, 1.1, 1.2]])\n",
    "tmp2D, tmp2D.shape, tmp2D[0][1]"
   ]
  },
  {
   "cell_type": "code",
   "execution_count": 30,
   "metadata": {
    "collapsed": false
   },
   "outputs": [
    {
     "data": {
      "text/plain": [
       "array([  0.  ,   2.25,   4.5 ,   6.75,   9.  ,  11.25,  13.5 ,  15.75,  18.  ])"
      ]
     },
     "execution_count": 30,
     "metadata": {},
     "output_type": "execute_result"
    }
   ],
   "source": [
    "#插值生成 linspace logspace\n",
    "mat = np.linspace(0, 18, 9)\n",
    "mat"
   ]
  },
  {
   "cell_type": "code",
   "execution_count": 31,
   "metadata": {
    "collapsed": false
   },
   "outputs": [
    {
     "data": {
      "text/plain": [
       "array([ 0,  2,  4,  6,  8, 10, 12, 14, 16])"
      ]
     },
     "execution_count": 31,
     "metadata": {},
     "output_type": "execute_result"
    }
   ],
   "source": [
    "#从数组中生成\n",
    "mat1 = np.arange(0, 18, 2)\n",
    "mat1"
   ]
  },
  {
   "cell_type": "code",
   "execution_count": 47,
   "metadata": {
    "collapsed": false
   },
   "outputs": [
    {
     "name": "stdout",
     "output_type": "stream",
     "text": [
      "[[[1 1 1 1]\n",
      "  [2 2 2 2]\n",
      "  [3 3 3 3]]\n",
      "\n",
      " [[0 1 2 3]\n",
      "  [0 1 2 3]\n",
      "  [0 1 2 3]]]\n"
     ]
    }
   ],
   "source": [
    "# 创建格网\n",
    "g = np.mgrid[1:4, 0:4]\n",
    "print(g)"
   ]
  },
  {
   "cell_type": "code",
   "execution_count": 52,
   "metadata": {
    "collapsed": false
   },
   "outputs": [
    {
     "name": "stdout",
     "output_type": "stream",
     "text": [
      "[[ 0.15798138  0.76426381  0.26221403]\n",
      " [ 0.98298431  0.94655075  0.00696479]\n",
      " [ 0.30875877  0.33322367  0.03711038]]\n",
      "[[ 0.  0.  0.]\n",
      " [ 0.  0.  0.]\n",
      " [ 0.  0.  0.]]\n",
      "[[ 1.  1.  1.]\n",
      " [ 1.  1.  1.]\n",
      " [ 1.  1.  1.]]\n"
     ]
    }
   ],
   "source": [
    "# 随机生成\n",
    "r = np.random.rand(3,3)\n",
    "print(r)\n",
    "# 带初值生成，注意括号((col, row, ..), type)\n",
    "zero = np.zeros((3,3), dtype=np.float64)\n",
    "print(zero)\n",
    "one = np.ones((3,3))\n",
    "print(one)"
   ]
  },
  {
   "cell_type": "code",
   "execution_count": 59,
   "metadata": {
    "collapsed": false
   },
   "outputs": [
    {
     "name": "stdout",
     "output_type": "stream",
     "text": [
      "[[ 0.77744434  0.81829472  0.51832405  0.55142536  0.59545007]\n",
      " [ 0.3068434   0.42530331  0.72414184  0.74424096  0.23874391]\n",
      " [ 0.80895861  0.42366545  0.66107827  0.14526973  0.12954337]\n",
      " [ 0.61392913  0.15413343  0.13999891  0.4526404   0.296103  ]\n",
      " [ 0.93642697  0.46871796  0.39801458  0.45494973  0.62553784]]\n",
      "0.0\n"
     ]
    }
   ],
   "source": [
    "# 序列化\n",
    "\n",
    "test = np.random.rand(5, 5)\n",
    "print(test)\n",
    "np.save('../data/random-5.npy', test)\n",
    "tmp = np.load('../data/random-5.npy')\n",
    "print((test-tmp).mean())"
   ]
  },
  {
   "cell_type": "code",
   "execution_count": 63,
   "metadata": {
    "collapsed": false
   },
   "outputs": [
    {
     "data": {
      "text/plain": [
       "array([['小明', '男', '10'],\n",
       "       ['小红', '女', '11'],\n",
       "       ['小刚', '男', '12']], \n",
       "      dtype='<U2')"
      ]
     },
     "execution_count": 63,
     "metadata": {},
     "output_type": "execute_result"
    }
   ],
   "source": [
    "# 切片 索引 和 赋值\n",
    "\n",
    "info = np.array([['小明', '男', '10'],\n",
    "               ['小红', '女', '11'],\n",
    "               ['小刚', '男', '12']])\n",
    "info"
   ]
  },
  {
   "cell_type": "code",
   "execution_count": 83,
   "metadata": {
    "collapsed": false
   },
   "outputs": [
    {
     "name": "stdout",
     "output_type": "stream",
     "text": [
      "[['小红' '女' '11']]\n",
      "[['小明']\n",
      " ['小红']\n",
      " ['小刚']]\n",
      "[['10']\n",
      " ['11']\n",
      " ['12']]\n"
     ]
    }
   ],
   "source": [
    "#(最小值:最大值:采样间隔)  \n",
    "\n",
    "# 按行来取值\n",
    "小红 = info[1:2:1]  \n",
    "print(小红)\n",
    "\n",
    "# 按列取值\n",
    "name = info[0:3, :1]\n",
    "print(name)\n",
    "\n",
    "age_index = [2]\n",
    "print(info[::, age_index])"
   ]
  },
  {
   "cell_type": "code",
   "execution_count": 86,
   "metadata": {
    "collapsed": false
   },
   "outputs": [
    {
     "name": "stdout",
     "output_type": "stream",
     "text": [
      "[[ 0.19335883  0.6568079   0.1705884 ]\n",
      " [ 0.43722217  0.80471827  0.7774497 ]\n",
      " [ 0.77102649  0.41027065  0.61815674]]\n",
      "[[-2.19335883 -2.6568079  -2.1705884 ]\n",
      " [-2.43722217 -2.80471827 -2.7774497 ]\n",
      " [-2.77102649 -2.41027065 -2.61815674]]\n",
      "[[ 17.30081202  18.51063623  17.82297017]\n",
      " [ 19.87781102  21.0360812   20.35196874]\n",
      " [ 19.20720217  20.43268156  19.56390816]]\n"
     ]
    }
   ],
   "source": [
    "# 矩阵运算\n",
    "\n",
    "mat = np.random.rand(3,3)\n",
    "print(mat)\n",
    "\n",
    "mat = mat + 2\n",
    "mat = mat * -1\n",
    "print(mat)\n",
    "\n",
    "dot = np.dot(mat, mat)\n",
    "print(dot)\n",
    "# more: dot cross inner, outer  .T, .H  inv .I  mean std .max() .min() sum\n"
   ]
  },
  {
   "cell_type": "code",
   "execution_count": 112,
   "metadata": {
    "collapsed": false
   },
   "outputs": [
    {
     "name": "stdout",
     "output_type": "stream",
     "text": [
      "['北京市', '天安门', '东城区', '西城区', '崇文区', '宣武区', '朝阳区', '丰台区', '石景山区', '海淀区']\n"
     ]
    }
   ],
   "source": [
    "# 读文件\n",
    "import csv\n",
    "\n",
    "index = [2,4,5]\n",
    "# 读出前十个地区\n",
    "with open('../data/cities.csv', 'rt') as file:\n",
    "    reader = csv.DictReader(file)\n",
    "    district = [row['district'] for row in reader]\n",
    "    print(district[:10])\n",
    "    "
   ]
  },
  {
   "cell_type": "code",
   "execution_count": 132,
   "metadata": {
    "collapsed": false
   },
   "outputs": [
    {
     "name": "stdout",
     "output_type": "stream",
     "text": [
      "[[ 116.4    39.9 ]\n",
      " [ 116.38   39.9 ]\n",
      " [ 116.42   39.93]\n",
      " [ 116.37   39.92]\n",
      " [ 116.43   39.88]\n",
      " [ 116.35   39.87]\n",
      " [ 116.43   39.92]\n",
      " [ 116.28   39.85]\n",
      " [ 116.22   39.9 ]\n",
      " [ 116.3    39.95]]\n",
      "[ 116.4   116.38  116.42  116.37  116.43  116.35  116.43  116.28  116.22\n",
      "  116.3 ]\n"
     ]
    }
   ],
   "source": [
    "pos_index = [4, 5]\n",
    "pos = np.genfromtxt('../data/cities.csv',delimiter=',', skip_header=True)[:, pos_index]\n",
    "print(pos[:10])\n",
    "print(pos[:10, 0])\n"
   ]
  },
  {
   "cell_type": "code",
   "execution_count": 135,
   "metadata": {
    "collapsed": false
   },
   "outputs": [
    {
     "data": {
      "image/png": "[encoded data removed]",
      "text/plain": [
       "<matplotlib.figure.Figure at 0x7fb312694780>"
      ]
     },
     "metadata": {},
     "output_type": "display_data"
    }
   ],
   "source": [
    "import matplotlib.pyplot as plt\n",
    "%matplotlib inline\n",
    "plt.scatter(pos[:, 0], pos[:,1])\n",
    "plt.show()"
   ]
  },
  {
   "cell_type": "code",
   "execution_count": null,
   "metadata": {
    "collapsed": true
   },
   "outputs": [],
   "source": []
  }
 ],
 "metadata": {
  "kernelspec": {
   "display_name": "Python 3",
   "language": "python",
   "name": "python3"
  },
  "language_info": {
   "codemirror_mode": {
    "name": "ipython",
    "version": 3
   },
   "file_extension": ".py",
   "mimetype": "text/x-python",
   "name": "python",
   "nbconvert_exporter": "python",
   "pygments_lexer": "ipython3",
   "version": "3.5.3"
  }
 },
 "nbformat": 4,
 "nbformat_minor": 0
}
