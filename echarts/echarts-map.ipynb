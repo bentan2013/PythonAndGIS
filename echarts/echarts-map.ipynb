{
 "nbformat": 4,
 "nbformat_minor": 2,
 "metadata": {
  "language_info": {
   "name": "python",
   "codemirror_mode": {
    "name": "ipython",
    "version": 3
   },
   "version": "3.7.4"
  },
  "orig_nbformat": 2,
  "file_extension": ".py",
  "mimetype": "text/x-python",
  "name": "python",
  "npconvert_exporter": "python",
  "pygments_lexer": "ipython3",
  "version": 3
 },
 "cells": [
  {
   "cell_type": "markdown",
   "execution_count": null,
   "metadata": {},
   "outputs": [],
   "source": [
    "# 简介\n",
    "[Echarts](https://github.com/ecomfe/echarts) 是一个由百度开源的数据可视化，凭借着良好的交互性，精巧的图表设计，得到了众多开发者的认可。而 Python 是一门富有表达力的语言，很适合用于数据处理。当数据分析遇上数据可视化时，[pyecharts](https://github.com/pyecharts/pyecharts) 诞生了。\n",
    "可以从[这里](https://pyecharts.org/#/zh-cn/notebook)找到详细的介绍\n",
    "\n",
    "# 快速入门\n",
    "## 安装\n",
    "`pip(3) install pyecharts`\n",
    "## 使用\n",
    "```\n",
    "import pyecharts\n",
    "\n",
    "print(pyecharts.__version__)\n",
    "```\n",
    "下面是代码和演示"
   ]
  },
  {
   "cell_type": "code",
   "execution_count": 1,
   "metadata": {},
   "outputs": [
    {
     "name": "stdout",
     "output_type": "stream",
     "text": "1.6.0\n"
    }
   ],
   "source": [
    "import pyecharts\n",
    "\n",
    "print(pyecharts.__version__)"
   ]
  },
  {
   "cell_type": "code",
   "execution_count": null,
   "metadata": {},
   "outputs": [],
   "source": []
  },
  {
   "cell_type": "markdown",
   "execution_count": null,
   "metadata": {},
   "outputs": [],
   "source": [
    "下面是pyecharts提供的一个例子, 代码如下：\n",
    "```\n",
    "from pyecharts.charts import Bar\n",
    "\n",
    "bar = Bar()\n",
    "bar.add_xaxis([\"衬衫\", \"羊毛衫\", \"雪纺衫\", \"裤子\", \"高跟鞋\", \"袜子\"])\n",
    "bar.add_yaxis(\"商家A\", [5, 20, 36, 10, 75, 90])\n",
    "# render 会生成本地 HTML 文件，默认会在当前目录生成 render.html 文件\n",
    "# 也可以传入路径参数，如 bar.render(\"mycharts.html\")\n",
    "bar.render()\n",
    "```\n",
    "但是要在notebook中显示的话，需要增加一些设置。具体可以看[notebook](https://pyecharts.org/#/zh-cn/notebook)的介绍。不想看说明的话，就直接看下面的代码吧。不过要注意的是。`bar.load_javascript()`和`bar.render_notebook()`需要在两个cell里面"
   ]
  },
  {
   "cell_type": "code",
   "execution_count": 2,
   "metadata": {},
   "outputs": [
    {
     "data": {
      "application/javascript": "new Promise(function(resolve, reject) {\n    var script = document.createElement(\"script\");\n    script.onload = resolve;\n    script.onerror = reject;\n    script.src = \"https://assets.pyecharts.org/assets/echarts.min.js\";\n    document.head.appendChild(script);\n}).then(() => {\n\n});",
      "text/plain": "<pyecharts.render.display.Javascript at 0x7fa93050eed0>"
     },
     "execution_count": 2,
     "metadata": {},
     "output_type": "execute_result"
    }
   ],
   "source": [
    "from pyecharts.globals import CurrentConfig, NotebookType\n",
    "CurrentConfig.NOTEBOOK_TYPE = NotebookType.JUPYTER_LAB\n",
    "\n",
    "from pyecharts.charts import Bar\n",
    "\n",
    "bar = Bar()\n",
    "bar.add_xaxis([\"衬衫\", \"羊毛衫\", \"雪纺衫\", \"裤子\", \"高跟鞋\", \"袜子\"])\n",
    "bar.add_yaxis(\"商家A\", [5, 20, 36, 10, 75, 90])\n",
    "# render 会生成本地 HTML 文件，默认会在当前目录生成 render.html 文件\n",
    "# 也可以传入路径参数，如 bar.render(\"mycharts.html\")\n",
    "bar.load_javascript()"
   ]
  },
  {
   "cell_type": "code",
   "execution_count": 3,
   "metadata": {},
   "outputs": [
    {
     "data": {
      "text/html": "<!DOCTYPE html>\n<html>\n<head>\n    <meta charset=\"UTF-8\">\n</head>\n<body>\n        <div id=\"be8152ba25bf43f884ee4e1b6aca8fec\" class=\"chart-container\" style=\"width:900px; height:500px;\"></div>\n    <script>\n        var chart_be8152ba25bf43f884ee4e1b6aca8fec = echarts.init(\n            document.getElementById('be8152ba25bf43f884ee4e1b6aca8fec'), 'white', {renderer: 'canvas'});\n        var option_be8152ba25bf43f884ee4e1b6aca8fec = {\n    \"animation\": true,\n    \"animationThreshold\": 2000,\n    \"animationDuration\": 1000,\n    \"animationEasing\": \"cubicOut\",\n    \"animationDelay\": 0,\n    \"animationDurationUpdate\": 300,\n    \"animationEasingUpdate\": \"cubicOut\",\n    \"animationDelayUpdate\": 0,\n    \"color\": [\n        \"#c23531\",\n        \"#2f4554\",\n        \"#61a0a8\",\n        \"#d48265\",\n        \"#749f83\",\n        \"#ca8622\",\n        \"#bda29a\",\n        \"#6e7074\",\n        \"#546570\",\n        \"#c4ccd3\",\n        \"#f05b72\",\n        \"#ef5b9c\",\n        \"#f47920\",\n        \"#905a3d\",\n        \"#fab27b\",\n        \"#2a5caa\",\n        \"#444693\",\n        \"#726930\",\n        \"#b2d235\",\n        \"#6d8346\",\n        \"#ac6767\",\n        \"#1d953f\",\n        \"#6950a1\",\n        \"#918597\"\n    ],\n    \"series\": [\n        {\n            \"type\": \"bar\",\n            \"name\": \"\\u5546\\u5bb6A\",\n            \"data\": [\n                5,\n                20,\n                36,\n                10,\n                75,\n                90\n            ],\n            \"barCategoryGap\": \"20%\",\n            \"label\": {\n                \"show\": true,\n                \"position\": \"top\",\n                \"margin\": 8\n            }\n        }\n    ],\n    \"legend\": [\n        {\n            \"data\": [\n                \"\\u5546\\u5bb6A\"\n            ],\n            \"selected\": {\n                \"\\u5546\\u5bb6A\": true\n            }\n        }\n    ],\n    \"tooltip\": {\n        \"show\": true,\n        \"trigger\": \"item\",\n        \"triggerOn\": \"mousemove|click\",\n        \"axisPointer\": {\n            \"type\": \"line\"\n        },\n        \"textStyle\": {\n            \"fontSize\": 14\n        },\n        \"borderWidth\": 0\n    },\n    \"xAxis\": [\n        {\n            \"show\": true,\n            \"scale\": false,\n            \"nameLocation\": \"end\",\n            \"nameGap\": 15,\n            \"gridIndex\": 0,\n            \"inverse\": false,\n            \"offset\": 0,\n            \"splitNumber\": 5,\n            \"minInterval\": 0,\n            \"splitLine\": {\n                \"show\": false,\n                \"lineStyle\": {\n                    \"width\": 1,\n                    \"opacity\": 1,\n                    \"curveness\": 0,\n                    \"type\": \"solid\"\n                }\n            },\n            \"data\": [\n                \"\\u886c\\u886b\",\n                \"\\u7f8a\\u6bdb\\u886b\",\n                \"\\u96ea\\u7eba\\u886b\",\n                \"\\u88e4\\u5b50\",\n                \"\\u9ad8\\u8ddf\\u978b\",\n                \"\\u889c\\u5b50\"\n            ]\n        }\n    ],\n    \"yAxis\": [\n        {\n            \"show\": true,\n            \"scale\": false,\n            \"nameLocation\": \"end\",\n            \"nameGap\": 15,\n            \"gridIndex\": 0,\n            \"inverse\": false,\n            \"offset\": 0,\n            \"splitNumber\": 5,\n            \"minInterval\": 0,\n            \"splitLine\": {\n                \"show\": false,\n                \"lineStyle\": {\n                    \"width\": 1,\n                    \"opacity\": 1,\n                    \"curveness\": 0,\n                    \"type\": \"solid\"\n                }\n            }\n        }\n    ]\n};\n        chart_be8152ba25bf43f884ee4e1b6aca8fec.setOption(option_be8152ba25bf43f884ee4e1b6aca8fec);\n    </script>\n</body>\n</html>\n",
      "text/plain": "<pyecharts.render.display.HTML at 0x7fa93c05d610>"
     },
     "execution_count": 3,
     "metadata": {},
     "output_type": "execute_result"
    }
   ],
   "source": [
    "bar.render_notebook()"
   ]
  },
  {
   "cell_type": "markdown",
   "execution_count": null,
   "metadata": {},
   "outputs": [],
   "source": [
    "# 地图\n",
    "熟悉了pyecharts的基本使用方法之后，就可以用它来绘制一些简单的地图了。\n"
   ]
  },
  {
   "cell_type": "code",
   "execution_count": 4,
   "metadata": {},
   "outputs": [
    {
     "data": {
      "application/javascript": "new Promise(function(resolve, reject) {\n    var script = document.createElement(\"script\");\n    script.onload = resolve;\n    script.onerror = reject;\n    script.src = \"https://assets.pyecharts.org/assets/echarts.min.js\";\n    document.head.appendChild(script);\n}).then(() => {\nnew Promise(function(resolve, reject) {\n    var script = document.createElement(\"script\");\n    script.onload = resolve;\n    script.onerror = reject;\n    script.src = \"https://assets.pyecharts.org/assets/maps/china.js\";\n    document.head.appendChild(script);\n}).then(() => {\n\n});\n});",
      "text/plain": "<pyecharts.render.display.Javascript at 0x7fa93050e8d0>"
     },
     "execution_count": 4,
     "metadata": {},
     "output_type": "execute_result"
    }
   ],
   "source": [
    "from pyecharts.globals import CurrentConfig, NotebookType\n",
    "CurrentConfig.NOTEBOOK_TYPE = NotebookType.JUPYTER_LAB\n",
    "from pyecharts import options as opts\n",
    "from pyecharts.charts import Map\n",
    "\n",
    "\n",
    "class Faker:\n",
    "    provinces = [\"广东\", \"北京\", \"上海\", \"江西\", \"湖南\", \"浙江\", \"江苏\"]\n",
    "\n",
    "    @staticmethod\n",
    "    def values(start: int = 20, end: int = 150) -> list:\n",
    "        import random\n",
    "        return [random.randint(start, end) for _ in range(7)]\n",
    "\n",
    "def map_base() -> Map:\n",
    "    c = (\n",
    "        Map()\n",
    "        .add(\"商家A\", [list(z) for z in zip(Faker.provinces, Faker.values())], \"china\")\n",
    "        .set_global_opts(title_opts=opts.TitleOpts(title=\"Map-基本示例\"))\n",
    "    )\n",
    "    return c\n",
    "\n",
    "map_base().load_javascript()\n"
   ]
  },
  {
   "cell_type": "code",
   "execution_count": 5,
   "metadata": {},
   "outputs": [
    {
     "data": {
      "text/html": "<!DOCTYPE html>\n<html>\n<head>\n    <meta charset=\"UTF-8\">\n</head>\n<body>\n        <div id=\"739601b90de040b68f55524d8b758da9\" class=\"chart-container\" style=\"width:900px; height:500px;\"></div>\n    <script>\n        var chart_739601b90de040b68f55524d8b758da9 = echarts.init(\n            document.getElementById('739601b90de040b68f55524d8b758da9'), 'white', {renderer: 'canvas'});\n        var option_739601b90de040b68f55524d8b758da9 = {\n    \"animation\": true,\n    \"animationThreshold\": 2000,\n    \"animationDuration\": 1000,\n    \"animationEasing\": \"cubicOut\",\n    \"animationDelay\": 0,\n    \"animationDurationUpdate\": 300,\n    \"animationEasingUpdate\": \"cubicOut\",\n    \"animationDelayUpdate\": 0,\n    \"color\": [\n        \"#c23531\",\n        \"#2f4554\",\n        \"#61a0a8\",\n        \"#d48265\",\n        \"#749f83\",\n        \"#ca8622\",\n        \"#bda29a\",\n        \"#6e7074\",\n        \"#546570\",\n        \"#c4ccd3\",\n        \"#f05b72\",\n        \"#ef5b9c\",\n        \"#f47920\",\n        \"#905a3d\",\n        \"#fab27b\",\n        \"#2a5caa\",\n        \"#444693\",\n        \"#726930\",\n        \"#b2d235\",\n        \"#6d8346\",\n        \"#ac6767\",\n        \"#1d953f\",\n        \"#6950a1\",\n        \"#918597\"\n    ],\n    \"series\": [\n        {\n            \"type\": \"map\",\n            \"name\": \"\\u5546\\u5bb6A\",\n            \"label\": {\n                \"show\": true,\n                \"position\": \"top\",\n                \"margin\": 8\n            },\n            \"mapType\": \"china\",\n            \"data\": [\n                {\n                    \"name\": \"\\u5e7f\\u4e1c\",\n                    \"value\": 146\n                },\n                {\n                    \"name\": \"\\u5317\\u4eac\",\n                    \"value\": 127\n                },\n                {\n                    \"name\": \"\\u4e0a\\u6d77\",\n                    \"value\": 103\n                },\n                {\n                    \"name\": \"\\u6c5f\\u897f\",\n                    \"value\": 119\n                },\n                {\n                    \"name\": \"\\u6e56\\u5357\",\n                    \"value\": 111\n                },\n                {\n                    \"name\": \"\\u6d59\\u6c5f\",\n                    \"value\": 53\n                },\n                {\n                    \"name\": \"\\u6c5f\\u82cf\",\n                    \"value\": 27\n                }\n            ],\n            \"roam\": true,\n            \"zoom\": 1,\n            \"showLegendSymbol\": true,\n            \"emphasis\": {}\n        }\n    ],\n    \"legend\": [\n        {\n            \"data\": [\n                \"\\u5546\\u5bb6A\"\n            ],\n            \"selected\": {\n                \"\\u5546\\u5bb6A\": true\n            },\n            \"show\": true,\n            \"padding\": 5,\n            \"itemGap\": 10,\n            \"itemWidth\": 25,\n            \"itemHeight\": 14\n        }\n    ],\n    \"tooltip\": {\n        \"show\": true,\n        \"trigger\": \"item\",\n        \"triggerOn\": \"mousemove|click\",\n        \"axisPointer\": {\n            \"type\": \"line\"\n        },\n        \"textStyle\": {\n            \"fontSize\": 14\n        },\n        \"borderWidth\": 0\n    },\n    \"title\": [\n        {\n            \"text\": \"Map-\\u57fa\\u672c\\u793a\\u4f8b\"\n        }\n    ]\n};\n        chart_739601b90de040b68f55524d8b758da9.setOption(option_739601b90de040b68f55524d8b758da9);\n    </script>\n</body>\n</html>\n",
      "text/plain": "<pyecharts.render.display.HTML at 0x7fa9304db050>"
     },
     "execution_count": 5,
     "metadata": {},
     "output_type": "execute_result"
    }
   ],
   "source": [
    "map_base().render_notebook()"
   ]
  },
  {
   "cell_type": "code",
   "execution_count": null,
   "metadata": {},
   "outputs": [],
   "source": []
  }
 ]
}